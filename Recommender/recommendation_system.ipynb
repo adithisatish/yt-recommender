{
 "metadata": {
  "language_info": {
   "codemirror_mode": {
    "name": "ipython",
    "version": 3
   },
   "file_extension": ".py",
   "mimetype": "text/x-python",
   "name": "python",
   "nbconvert_exporter": "python",
   "pygments_lexer": "ipython3",
   "version": "3.7.6-final"
  },
  "orig_nbformat": 2,
  "kernelspec": {
   "name": "python37064bit1d987c35025341e2aefe788fd3b05888",
   "display_name": "Python 3.7.0 64-bit",
   "language": "python"
  }
 },
 "nbformat": 4,
 "nbformat_minor": 2,
 "cells": [
  {
   "cell_type": "code",
   "execution_count": 1,
   "metadata": {},
   "outputs": [],
   "source": [
    "import pandas as pd \n",
    "import numpy as np \n",
    "import matplotlib as plt"
   ]
  },
  {
   "cell_type": "code",
   "execution_count": 5,
   "metadata": {},
   "outputs": [
    {
     "output_type": "execute_result",
     "data": {
      "text/plain": [
       "   Unnamed: 0                                   Video Link  \\\n",
       "0           0  https://www.youtube.com/watch?v=bWWTk-pZX5g   \n",
       "1           1  https://www.youtube.com/watch?v=gyK9USvrvDQ   \n",
       "2           2  https://www.youtube.com/watch?v=GihybX7JyG4   \n",
       "3           3  https://www.youtube.com/watch?v=4f2OCYaqLdE   \n",
       "4           4  https://www.youtube.com/watch?v=imA5NPX4ucU   \n",
       "\n",
       "                                         Video Title            Views  \\\n",
       "0  8 fiction books you need to read📚(& that will ...    382,446 views   \n",
       "1               Top 10 BEST SELLING Books In History    575,824 views   \n",
       "2  (Full Audiobook) This Book Will Change Everyth...  4,692,014 views   \n",
       "3         I Read Every Book Joe from You Recommended  1,977,658 views   \n",
       "4  SUPER BIG BOOKHAUL aka *leo has a book buying ...      2,450 views   \n",
       "\n",
       "  Uploaded Date Likes on Video Dislikes on Video  \\\n",
       "0   23 Mar 2020            18K               341   \n",
       "1   25 Aug 2018            12K               992   \n",
       "2   26 Oct 2017            61K              4.3K   \n",
       "3   25 Jan 2020            99K               734   \n",
       "4   23 Jul 2020            233                 0   \n",
       "\n",
       "                                            Comments  \n",
       "0  Yoo Se Na - \"You know what sexy?....\\nBooks.\"\\...  \n",
       "1   - Hello Aluxers, what's your favorite book se...  \n",
       "2  Brian Perkins - I love audiobooks. I use youtu...  \n",
       "3  Ishaan Vohra - Watching a smart guy do smart t...  \n",
       "4  Sabine's Book Nook - Us both having a book buy...  "
      ],
      "text/html": "<div>\n<style scoped>\n    .dataframe tbody tr th:only-of-type {\n        vertical-align: middle;\n    }\n\n    .dataframe tbody tr th {\n        vertical-align: top;\n    }\n\n    .dataframe thead th {\n        text-align: right;\n    }\n</style>\n<table border=\"1\" class=\"dataframe\">\n  <thead>\n    <tr style=\"text-align: right;\">\n      <th></th>\n      <th>Unnamed: 0</th>\n      <th>Video Link</th>\n      <th>Video Title</th>\n      <th>Views</th>\n      <th>Uploaded Date</th>\n      <th>Likes on Video</th>\n      <th>Dislikes on Video</th>\n      <th>Comments</th>\n    </tr>\n  </thead>\n  <tbody>\n    <tr>\n      <th>0</th>\n      <td>0</td>\n      <td>https://www.youtube.com/watch?v=bWWTk-pZX5g</td>\n      <td>8 fiction books you need to read📚(&amp; that will ...</td>\n      <td>382,446 views</td>\n      <td>23 Mar 2020</td>\n      <td>18K</td>\n      <td>341</td>\n      <td>Yoo Se Na - \"You know what sexy?....\\nBooks.\"\\...</td>\n    </tr>\n    <tr>\n      <th>1</th>\n      <td>1</td>\n      <td>https://www.youtube.com/watch?v=gyK9USvrvDQ</td>\n      <td>Top 10 BEST SELLING Books In History</td>\n      <td>575,824 views</td>\n      <td>25 Aug 2018</td>\n      <td>12K</td>\n      <td>992</td>\n      <td>- Hello Aluxers, what's your favorite book se...</td>\n    </tr>\n    <tr>\n      <th>2</th>\n      <td>2</td>\n      <td>https://www.youtube.com/watch?v=GihybX7JyG4</td>\n      <td>(Full Audiobook) This Book Will Change Everyth...</td>\n      <td>4,692,014 views</td>\n      <td>26 Oct 2017</td>\n      <td>61K</td>\n      <td>4.3K</td>\n      <td>Brian Perkins - I love audiobooks. I use youtu...</td>\n    </tr>\n    <tr>\n      <th>3</th>\n      <td>3</td>\n      <td>https://www.youtube.com/watch?v=4f2OCYaqLdE</td>\n      <td>I Read Every Book Joe from You Recommended</td>\n      <td>1,977,658 views</td>\n      <td>25 Jan 2020</td>\n      <td>99K</td>\n      <td>734</td>\n      <td>Ishaan Vohra - Watching a smart guy do smart t...</td>\n    </tr>\n    <tr>\n      <th>4</th>\n      <td>4</td>\n      <td>https://www.youtube.com/watch?v=imA5NPX4ucU</td>\n      <td>SUPER BIG BOOKHAUL aka *leo has a book buying ...</td>\n      <td>2,450 views</td>\n      <td>23 Jul 2020</td>\n      <td>233</td>\n      <td>0</td>\n      <td>Sabine's Book Nook - Us both having a book buy...</td>\n    </tr>\n  </tbody>\n</table>\n</div>"
     },
     "metadata": {},
     "execution_count": 5
    }
   ],
   "source": [
    "videos = pd.read_csv(\"video_details.csv\")\n",
    "videos.head()"
   ]
  },
  {
   "cell_type": "code",
   "execution_count": 6,
   "metadata": {},
   "outputs": [],
   "source": [
    "def strip_views(string):\n",
    "    string = string.split(' ')[0]\n",
    "    number = int(string.replace(\",\",\"\"))\n",
    "    return number\n",
    "\n",
    "def strip_likes(string):\n",
    "    temp = string.split(' ')[0]\n",
    "    try:\n",
    "        if 'K' in temp:\n",
    "            temp = temp.replace(\"K\",\"\")\n",
    "            number = int(float(temp)*1000)\n",
    "        elif 'M' in temp:\n",
    "            temp = temp.replace(\"M\",\"\")\n",
    "            number = int(float(temp)*1000000)\n",
    "        else:\n",
    "            number = int(temp)\n",
    "        return number\n",
    "   \n",
    "    except Exception as e:\n",
    "        print(string)\n",
    "        print(\"Error:\", e)\n",
    "\n",
    "def invert_dislikes(number): # This is to account for the decrease in quality when people dislike videos\n",
    "    if number == 0:\n",
    "        return number\n",
    "    return -number\n",
    "\n",
    "# strip_likes(\"233\")"
   ]
  },
  {
   "cell_type": "code",
   "execution_count": 8,
   "metadata": {},
   "outputs": [],
   "source": [
    "def preprocess():\n",
    "    global videos\n",
    "    videos = videos.drop(columns=[\"Comments\"])\n",
    "    videos = videos.dropna()\n",
    "    videos = videos[videos['Likes on Video']!='LIKE']\n",
    "    videos['Views'] = videos['Views'].apply(strip_views)\n",
    "    videos['Likes on Video'] = videos['Likes on Video'].apply(strip_likes)\n",
    "    videos[\"Dislikes on Video\"] = videos['Dislikes on Video'].apply(strip_likes)\n",
    "    videos[\"Dislikes on Video\"] = videos['Dislikes on Video'].apply(invert_dislikes)\n",
    "\n",
    "preprocess()"
   ]
  },
  {
   "cell_type": "code",
   "execution_count": 9,
   "metadata": {},
   "outputs": [
    {
     "output_type": "execute_result",
     "data": {
      "text/plain": [
       "   Unnamed: 0                                   Video Link  \\\n",
       "0           0  https://www.youtube.com/watch?v=bWWTk-pZX5g   \n",
       "1           1  https://www.youtube.com/watch?v=gyK9USvrvDQ   \n",
       "2           2  https://www.youtube.com/watch?v=GihybX7JyG4   \n",
       "3           3  https://www.youtube.com/watch?v=4f2OCYaqLdE   \n",
       "4           4  https://www.youtube.com/watch?v=imA5NPX4ucU   \n",
       "\n",
       "                                         Video Title    Views Uploaded Date  \\\n",
       "0  8 fiction books you need to read📚(& that will ...   382446   23 Mar 2020   \n",
       "1               Top 10 BEST SELLING Books In History   575824   25 Aug 2018   \n",
       "2  (Full Audiobook) This Book Will Change Everyth...  4692014   26 Oct 2017   \n",
       "3         I Read Every Book Joe from You Recommended  1977658   25 Jan 2020   \n",
       "4  SUPER BIG BOOKHAUL aka *leo has a book buying ...     2450   23 Jul 2020   \n",
       "\n",
       "   Likes on Video  Dislikes on Video  \n",
       "0           18000               -341  \n",
       "1           12000               -992  \n",
       "2           61000              -4300  \n",
       "3           99000               -734  \n",
       "4             233                  0  "
      ],
      "text/html": "<div>\n<style scoped>\n    .dataframe tbody tr th:only-of-type {\n        vertical-align: middle;\n    }\n\n    .dataframe tbody tr th {\n        vertical-align: top;\n    }\n\n    .dataframe thead th {\n        text-align: right;\n    }\n</style>\n<table border=\"1\" class=\"dataframe\">\n  <thead>\n    <tr style=\"text-align: right;\">\n      <th></th>\n      <th>Unnamed: 0</th>\n      <th>Video Link</th>\n      <th>Video Title</th>\n      <th>Views</th>\n      <th>Uploaded Date</th>\n      <th>Likes on Video</th>\n      <th>Dislikes on Video</th>\n    </tr>\n  </thead>\n  <tbody>\n    <tr>\n      <th>0</th>\n      <td>0</td>\n      <td>https://www.youtube.com/watch?v=bWWTk-pZX5g</td>\n      <td>8 fiction books you need to read📚(&amp; that will ...</td>\n      <td>382446</td>\n      <td>23 Mar 2020</td>\n      <td>18000</td>\n      <td>-341</td>\n    </tr>\n    <tr>\n      <th>1</th>\n      <td>1</td>\n      <td>https://www.youtube.com/watch?v=gyK9USvrvDQ</td>\n      <td>Top 10 BEST SELLING Books In History</td>\n      <td>575824</td>\n      <td>25 Aug 2018</td>\n      <td>12000</td>\n      <td>-992</td>\n    </tr>\n    <tr>\n      <th>2</th>\n      <td>2</td>\n      <td>https://www.youtube.com/watch?v=GihybX7JyG4</td>\n      <td>(Full Audiobook) This Book Will Change Everyth...</td>\n      <td>4692014</td>\n      <td>26 Oct 2017</td>\n      <td>61000</td>\n      <td>-4300</td>\n    </tr>\n    <tr>\n      <th>3</th>\n      <td>3</td>\n      <td>https://www.youtube.com/watch?v=4f2OCYaqLdE</td>\n      <td>I Read Every Book Joe from You Recommended</td>\n      <td>1977658</td>\n      <td>25 Jan 2020</td>\n      <td>99000</td>\n      <td>-734</td>\n    </tr>\n    <tr>\n      <th>4</th>\n      <td>4</td>\n      <td>https://www.youtube.com/watch?v=imA5NPX4ucU</td>\n      <td>SUPER BIG BOOKHAUL aka *leo has a book buying ...</td>\n      <td>2450</td>\n      <td>23 Jul 2020</td>\n      <td>233</td>\n      <td>0</td>\n    </tr>\n  </tbody>\n</table>\n</div>"
     },
     "metadata": {},
     "execution_count": 9
    }
   ],
   "source": [
    "videos.head()"
   ]
  },
  {
   "cell_type": "code",
   "execution_count": 10,
   "metadata": {},
   "outputs": [],
   "source": [
    "def score_att(view, likes, dislikes): # to score based on quality of video\n",
    "    return (likes + dislikes)/view"
   ]
  },
  {
   "cell_type": "code",
   "execution_count": 11,
   "metadata": {},
   "outputs": [],
   "source": [
    "from sklearn.feature_extraction.text import TfidfVectorizer\n",
    "from sklearn.metrics.pairwise import linear_kernel\n",
    "\n",
    "def recommender(link):\n",
    "    index = videos[videos['Video Link']==link].index.values\n",
    "\n",
    "    # Title Similarity\n",
    "    \n",
    "    tfidf = TfidfVectorizer(stop_words='english')\n",
    "    tfidf_matrix = tfidf.fit_transform(videos['Video Title'])  \n",
    "    cosine_sim = linear_kernel(tfidf_matrix, tfidf_matrix)\n",
    "    title_similarity = list(cosine_sim[index[0]])\n",
    "\n",
    "    # Attribute Similarity - Views, Likes, Dislikes\n",
    "    \n",
    "    attributes = ['Views','Likes on Video','Dislikes on Video']\n",
    "    video_att = videos[attributes]\n",
    "\n",
    "    score = []\n",
    "\n",
    "    for index, row in video_att.iterrows():\n",
    "        score.append(score_att(row['Views'],row['Likes on Video'], row['Dislikes on Video']))\n",
    "    \n",
    "    # Combining Title as well as Attribute Similarity - Unweighted\n",
    "    similarity = enumerate([0.7*title_similarity[i] + 0.3*score[i] for i in range(len(score))])\n",
    "\n",
    "    sim_scores = sorted(similarity, key = lambda x: x[1], reverse=True)[1:11]\n",
    "    video_titles = [i[0] for i in sim_scores]\n",
    "    return videos['Video Title'].iloc[video_titles]\n"
   ]
  },
  {
   "cell_type": "code",
   "execution_count": 12,
   "metadata": {},
   "outputs": [
    {
     "output_type": "execute_result",
     "data": {
      "text/plain": [
       "16                      Can You Name a Book? ANY Book???\n",
       "34           I Read A Book A Week (Here's What Happened)\n",
       "29                Meri Book Recommendations & Collection\n",
       "13                       SAVE ONE DROP ONE: BOOK EDITION\n",
       "140    Best Smartphones Under ₹15000⚡⚡⚡July 2020 | 90...\n",
       "127                   Stop buying expensive smart phones\n",
       "3             I Read Every Book Joe from You Recommended\n",
       "17     World's Best Life Changing Book - By Sandeep M...\n",
       "2      (Full Audiobook) This Book Will Change Everyth...\n",
       "74     'BOY STORY Official Weibo' 1 million subscribe...\n",
       "Name: Video Title, dtype: object"
      ]
     },
     "metadata": {},
     "execution_count": 12
    }
   ],
   "source": [
    "recommender(\"https://www.youtube.com/watch?v=imA5NPX4ucU\")"
   ]
  },
  {
   "cell_type": "code",
   "execution_count": null,
   "metadata": {},
   "outputs": [],
   "source": []
  }
 ]
}